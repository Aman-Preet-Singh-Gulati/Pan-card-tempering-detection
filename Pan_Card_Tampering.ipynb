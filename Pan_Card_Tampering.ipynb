{
 "cells": [
  {
   "cell_type": "markdown",
   "metadata": {
    "id": "15GUgEmTKCxh"
   },
   "source": [
    "## PAN Card Fraud Detection"
   ]
  },
  {
   "cell_type": "markdown",
   "metadata": {},
   "source": [
    "![title](pan_card_tampering/image/1.png)"
   ]
  },
  {
   "cell_type": "markdown",
   "metadata": {},
   "source": [
    "### Introduction\n",
    "Computer vision is a field of artificial intelligence that trains computers to interpret and understand the visual world. Using digital images from cameras and videos and deep learning models, machines can accurately identify and classify objects — and then react to what they **\"see\"**. Similarly in this project with the help of computer vision we are going to detect that whether the given image of PAN card is **original** or **tampered (fake)**. "
   ]
  },
  {
   "cell_type": "markdown",
   "metadata": {
    "id": "W0r364qUKCxj"
   },
   "source": [
    "### Purpose\n",
    "The purpose of this project is to **detect tampering of PAN card** using *computer vision*. This project will help differe
